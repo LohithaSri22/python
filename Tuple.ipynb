{
 "cells": [
  {
   "cell_type": "code",
   "execution_count": 5,
   "id": "96e059d7-b745-4f4d-9e01-934c62050a76",
   "metadata": {},
   "outputs": [
    {
     "name": "stdout",
     "output_type": "stream",
     "text": [
      "(10, 'lohi', 15)\n",
      "<class 'tuple'>\n",
      "(10, 5.0, 'loh')\n",
      "<class 'tuple'>\n",
      "10\n",
      "<class 'int'>\n",
      "('loh',)\n",
      "<class 'tuple'>\n"
     ]
    }
   ],
   "source": [
    "# Tuple\n",
    "\n",
    "a=(10,'lohi',15)\n",
    "print(a)\n",
    "print(type(a))\n",
    "\n",
    "a=tuple((10,5.0,'loh'))\n",
    "print(a)\n",
    "print(type(a))\n",
    "\n",
    "a = (10)\n",
    "print(a)\n",
    "print(type(a))\n",
    "\n",
    "a = ('loh',)\n",
    "print(a)\n",
    "print(type(a))"
   ]
  },
  {
   "cell_type": "code",
   "execution_count": 12,
   "id": "a0a94d01-518f-46ef-952c-d48b94aae116",
   "metadata": {},
   "outputs": [
    {
     "name": "stdout",
     "output_type": "stream",
     "text": [
      "('lohi', 10, 5)\n",
      "()\n",
      "(5,)\n",
      "('lohi', 10, 5)\n",
      "('lohi', 10)\n"
     ]
    }
   ],
   "source": [
    "# Accessing list\n",
    "# Indexing\n",
    "\n",
    "t = (1,5,'lohi',10,5)\n",
    "print(t[2:])\n",
    "print(t[-1:-3])\n",
    "print(t[-1:])\n",
    "print(t[-3:])\n",
    "print(t[-3:-1])"
   ]
  },
  {
   "cell_type": "code",
   "execution_count": 14,
   "id": "02c7e4f9-c012-41ec-bf83-ca3c2beffebe",
   "metadata": {},
   "outputs": [
    {
     "name": "stdout",
     "output_type": "stream",
     "text": [
      "[1, 5, 'lohi', 10, 5]\n",
      "(1, 5, 'lohi', 10, 5)\n",
      "(1, 2, 3, 4, 'l', 'o', 'h', 'i')\n"
     ]
    }
   ],
   "source": [
    "# Conversion\n",
    "l = [1,5,'lohi',10,5]\n",
    "print(l)\n",
    "t = tuple(l)\n",
    "print(t)\n",
    "\n",
    "\n",
    "x = (1,2,3,4)\n",
    "y = ('l','o','h','i')\n",
    "x += y\n",
    "print(x)\n"
   ]
  },
  {
   "cell_type": "code",
   "execution_count": 4,
   "id": "e7d630c5-9770-4723-a74f-d13e797e09a9",
   "metadata": {},
   "outputs": [
    {
     "name": "stdout",
     "output_type": "stream",
     "text": [
      "(1, 2, 3, (4, 5))\n",
      "[1, 2, 3, ['l', 'o', 'h', 'i']]\n",
      "(1, 2, 3, ['l', 'o', 'h', 'i'])\n",
      "[1, 2, 3, ('l', 'o', 'h', 'i')]\n",
      "(1, 2, 3, ('l', 'o', 'h', 'i'))\n"
     ]
    }
   ],
   "source": [
    "# Nested tuple\n",
    "\n",
    "t = (1,2,3,(4,5))\n",
    "print(t)\n",
    "\n",
    "l = [1,2,3]\n",
    "l1 = ['l','o','h','i']\n",
    "l.append(l1)\n",
    "print(l)\n",
    "t = tuple(l)\n",
    "print(t)\n",
    "\n",
    "l = [1,2,3]\n",
    "t1 = ('l','o','h','i')\n",
    "l.append(t1)\n",
    "print(l)\n",
    "t = tuple(l)\n",
    "print(t)"
   ]
  },
  {
   "cell_type": "code",
   "execution_count": 16,
   "id": "3572c045-23ef-4772-aa8d-6a598e4f81fa",
   "metadata": {
    "scrolled": true
   },
   "outputs": [
    {
     "name": "stdout",
     "output_type": "stream",
     "text": [
      "('l', 'o', 'h', 'i', 'k')\n",
      "apple\n",
      "banana\n",
      "grapes\n",
      "['grapes', 'kiwi']\n",
      "apple\n",
      "Banana\n",
      "grapes\n",
      "['apple', 'pomegranate']\n",
      "Banana\n"
     ]
    }
   ],
   "source": [
    "\n",
    "\n",
    "\"\"\"\n",
    "l=('l','o','h','i')\n",
    "l1 = ('k')\n",
    "l += l1                 TypeError: can only concatenate tuple (not \"str\") to tuple\n",
    "\"\"\"\n",
    "\n",
    "l=('l','o','h','i')\n",
    "l1 = ('k',)\n",
    "l += l1\n",
    "print(l)\n",
    "\n",
    "\n",
    "x=(\"apple\",\"banana\",\"grapes\")\n",
    "(red,yellow,green)=x\n",
    "print(red)\n",
    "print(yellow)\n",
    "print(green)\n",
    "\n",
    "x = (\"grapes\",\"kiwi\",\"apple\",\"Banana\")\n",
    "(*green,red,yellow) = x\n",
    "print(green)\n",
    "print(red)\n",
    "print(yellow)\n",
    "\n",
    "x = (\"grapes\",\"apple\",\"pomegranate\",\"Banana\")\n",
    "(green,*red,yellow) = x\n",
    "print(green)\n",
    "print(red)\n",
    "print(yellow)\n"
   ]
  },
  {
   "cell_type": "code",
   "execution_count": 22,
   "id": "787d4f0c-422b-4c7a-b00f-5dbd1b685071",
   "metadata": {},
   "outputs": [
    {
     "name": "stdout",
     "output_type": "stream",
     "text": [
      "8\n",
      "2\n"
     ]
    }
   ],
   "source": [
    "# Methods\n",
    "\n",
    "#index\n",
    "#count\n",
    "\n",
    "l = (1,2,3,4,5,'l','o','h','i',1,2,3,4,5)\n",
    "l.index('i')\n",
    "print(l.index('i'))\n",
    "\n",
    "\n",
    "\n",
    "l.count(1)\n",
    "print(l.count(1))\n",
    "\n"
   ]
  }
 ],
 "metadata": {
  "kernelspec": {
   "display_name": "Python 3 (ipykernel)",
   "language": "python",
   "name": "python3"
  },
  "language_info": {
   "codemirror_mode": {
    "name": "ipython",
    "version": 3
   },
   "file_extension": ".py",
   "mimetype": "text/x-python",
   "name": "python",
   "nbconvert_exporter": "python",
   "pygments_lexer": "ipython3",
   "version": "3.12.4"
  }
 },
 "nbformat": 4,
 "nbformat_minor": 5
}
