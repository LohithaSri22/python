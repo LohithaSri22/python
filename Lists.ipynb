{
 "cells": [
  {
   "cell_type": "code",
   "execution_count": 12,
   "id": "ca8ee606-45b4-4b6f-a809-eef7e671b252",
   "metadata": {},
   "outputs": [
    {
     "name": "stdout",
     "output_type": "stream",
     "text": [
      "[1, 'loh', 7, 10, 4.5]\n",
      "<class 'list'>\n",
      "5\n",
      "2763104215808\n"
     ]
    }
   ],
   "source": [
    "# Lists\n",
    "# Inbuilt functions\n",
    "\n",
    "lst = [1,'loh',7,10,4.5]\n",
    "print(lst)\n",
    "print(type(lst))\n",
    "print(len(lst))\n",
    "print(id(lst))"
   ]
  },
  {
   "cell_type": "code",
   "execution_count": 13,
   "id": "e1d2359c-7fb1-47ee-a024-0315cf8fc6e6",
   "metadata": {},
   "outputs": [
    {
     "name": "stdout",
     "output_type": "stream",
     "text": [
      "1\n",
      "loh\n",
      "4.5\n",
      "['loh', 7, 10]\n",
      "['loh', 7, 10, 4.5]\n",
      "[1, 'loh', 7, 10, 4.5]\n",
      "[1, 'loh', 7, 10]\n",
      "['loh', 7, 10]\n"
     ]
    }
   ],
   "source": [
    "# Accessing list\n",
    "\n",
    "lst = [1,'loh',7,10,4.5]\n",
    "print(lst[0])\n",
    "print(lst[1])\n",
    "print(lst[-1])\n",
    "print(lst[1:4])\n",
    "print(lst[1:])\n",
    "print(lst[:])\n",
    "print(lst[:4])\n",
    "print(lst[-4:-1])"
   ]
  },
  {
   "cell_type": "code",
   "execution_count": 14,
   "id": "1be8a3cd-30c6-46f8-9983-3651b8797dd4",
   "metadata": {},
   "outputs": [
    {
     "name": "stdout",
     "output_type": "stream",
     "text": [
      "4.5\n",
      "[4.5]\n",
      "[10, 4.5]\n",
      "[4.5, 10, 7, 'loh', 1]\n",
      "[1, 'loh', 7, 10]\n",
      "[]\n",
      "[]\n",
      "[7, 10]\n",
      "[1, 'loh']\n"
     ]
    }
   ],
   "source": [
    "# negative index\n",
    "\n",
    "lst = [1,'loh',7,10,4.5]\n",
    "print(lst[-1])\n",
    "print(lst[-1:])\n",
    "print(lst[-2:])\n",
    "print(lst[-1::-1])\n",
    "print(lst[-5:-1:1])\n",
    "print(lst[-5:-1:-1])\n",
    "print(lst[-1:-3])\n",
    "print(lst[-3:-1])\n",
    "print(lst[0:-3])"
   ]
  },
  {
   "cell_type": "code",
   "execution_count": 15,
   "id": "0bc6d793-5aac-4b98-82cc-cda17118b336",
   "metadata": {},
   "outputs": [
    {
     "name": "stdout",
     "output_type": "stream",
     "text": [
      "[1, 'loh', 'itha', 'reddy']\n",
      "[1, 'loh', 'itha', 'reddy', 4.5]\n",
      "[1, 'loh', 8, 10, 4.5]\n",
      "[1, 'loh', 7, 10, 20]\n",
      "[1, 'loh', 'itha', 'reddy']\n",
      "[1, 'loh', 'i', 't', 'h', 'a', 4.5]\n",
      "[1, 'loh', 7, 10, 'i', 't', 'h', 'a', 4.5]\n",
      "1\n",
      "[1, 'loh', 7, 10, 'i', 't', 'h', 'a', 4.5]\n",
      "[1, 2, 3, 7, 10, 4.5]\n"
     ]
    }
   ],
   "source": [
    "# indexing\n",
    "\n",
    "lst = [1,'loh',7,10,4.5]\n",
    "lst[2:] = ['itha','reddy']\n",
    "print(lst)\n",
    "\n",
    "lst = [1,'loh',7,10,4.5]\n",
    "lst[2:4] = ['itha','reddy']\n",
    "print(lst)\n",
    "\n",
    "lst = [1,'loh',7,10,4.5]\n",
    "lst[2:4] = [8,10]\n",
    "print(lst)\n",
    "\n",
    "lst = [1,'loh',7,10,4.5]\n",
    "lst[-1]= 20\n",
    "print(lst)\n",
    "\n",
    "lst = [1,'loh',7,10,4.5]\n",
    "lst[-3:] = ['itha','reddy']\n",
    "print(lst)\n",
    "\n",
    "lst = [1,'loh',7,10,4.5]\n",
    "lst[-3:-1]=['i','t','h','a']\n",
    "print(lst)\n",
    "\n",
    "lst = [1,'loh',7,10,4.5]\n",
    "lst[-1:-3]=['i','t','h','a']\n",
    "print(lst)                                                                 #doubt\n",
    "\n",
    "x=1\n",
    "print(x)\n",
    "\"\"\"\n",
    "lst = [1,'loh',7,10,4.5]\n",
    "lst[-3:-1:-1] = ['hi']\n",
    "print(lst[-3:-1:-1])\n",
    "print(lst)\n",
    "\n",
    "lst = [1,'loh',7,10,4.5]\n",
    "lst[-1:-3:-1]=['i','t','h','a']\n",
    "print(lst) \"\"\"\n",
    "\n",
    "lst = [1,'loh',7,10,4.5]\n",
    "lst[-1:-3:1]=['i','t','h','a']\n",
    "print(lst)\n",
    "\n",
    "lst = [1,'loh',7,10,4.5]\n",
    "lst[1:-3] = [2,3]\n",
    "print(lst)"
   ]
  },
  {
   "cell_type": "code",
   "execution_count": 16,
   "id": "15d991f2-978e-4d17-adf3-197993d16653",
   "metadata": {},
   "outputs": [
    {
     "name": "stdout",
     "output_type": "stream",
     "text": [
      "[1, 5, 'lohi', 3, 6, 'reddy', 'k']\n",
      "None\n",
      "[1, 5, 'lohi', 3, 6, 'reddy', [10, 20]]\n"
     ]
    }
   ],
   "source": [
    "# List Methods\n",
    "\n",
    "#append\n",
    "#insert\n",
    "#extend\n",
    "#remove\n",
    "#pop\n",
    "#delete\n",
    "#sort\n",
    "#reverse\n",
    "#copy\n",
    "#count\n",
    "#clear\n",
    "\n",
    "#append - Adds an element at the end of the list\n",
    "\n",
    "lst = [1,5,'lohi',3,6,'reddy']\n",
    "lst.append('k')\n",
    "print(lst)\n",
    "\n",
    "lst = [1,5,'lohi',3,6,'reddy']\n",
    "print(lst.append('k'))\n",
    "\n",
    "lst = [1,5,'lohi',3,6,'reddy']\n",
    "ls = [10,20]\n",
    "lst.append(ls)\n",
    "print(lst)"
   ]
  },
  {
   "cell_type": "code",
   "execution_count": 17,
   "id": "77c35e56-6abe-4e1b-ae71-d7cf7ff6438e",
   "metadata": {},
   "outputs": [
    {
     "name": "stdout",
     "output_type": "stream",
     "text": [
      "[1, 5, 'lohi', 3, 6, 'k', 'reddy']\n",
      "['k', 1, 5, 'lohi', 3, 6, 'reddy']\n",
      "[[10, 20], 1, 5, 'lohi', 3, 6, 'reddy']\n"
     ]
    }
   ],
   "source": [
    "# insert - Adds an element at the specified positionInserts a given element at a given index in a list. \n",
    "\n",
    "lst = [1,5,'lohi',3,6,'reddy']\n",
    "lst.insert(-1,'k')\n",
    "print(lst)                                                                     #doubt\n",
    "\n",
    "lst = [1,5,'lohi',3,6,'reddy']\n",
    "lst.insert(0,'k')\n",
    "print(lst) \n",
    "\n",
    "lst = [1,5,'lohi',3,6,'reddy']\n",
    "ls = [10,20]\n",
    "lst.insert(0,ls)\n",
    "print(lst)"
   ]
  },
  {
   "cell_type": "code",
   "execution_count": 19,
   "id": "4d3216bd-e453-427b-b23c-fdc6ae75a6b7",
   "metadata": {},
   "outputs": [
    {
     "name": "stdout",
     "output_type": "stream",
     "text": [
      "[1, 5, 'lohi', 3, 6, 'reddy', 'k']\n",
      "[1, 5, 'lohi', 3, 6, 'reddy', 10, 20]\n"
     ]
    }
   ],
   "source": [
    "#extend - Add the elements of a list (or any iterable), to the end of the current list\n",
    "\n",
    "lst = [1,5,'lohi',3,6,'reddy']\n",
    "lst.extend('k')\n",
    "print(lst)\n",
    "\n",
    "lst = [1,5,'lohi',3,6,'reddy']\n",
    "ls = [10,20]\n",
    "lst.extend(ls)\n",
    "print(lst)"
   ]
  },
  {
   "cell_type": "code",
   "execution_count": 21,
   "id": "31146d70-99c2-4ed5-86b0-2b8a9573b641",
   "metadata": {},
   "outputs": [
    {
     "name": "stdout",
     "output_type": "stream",
     "text": [
      "[1, 'lohi', 3, 6, 5, 4]\n",
      "[1, 5, 'lohi', 3, 6, 'reddy', [10, 20]]\n",
      "[1, 5, 'lohi', 3, 6, 'reddy']\n"
     ]
    }
   ],
   "source": [
    "#remove - Removes the first item of  a specified object from the List.\n",
    "\n",
    "lst = [1,5,'lohi',3,6,5,4]\n",
    "lst.remove(5)\n",
    "print(lst)\n",
    "\n",
    "lst = [1,5,'lohi',3,6,'reddy']\n",
    "ls = [10,20]\n",
    "lst.append(ls)\n",
    "print(lst)\n",
    "lst.remove(ls)\n",
    "print(lst)"
   ]
  },
  {
   "cell_type": "code",
   "execution_count": 22,
   "id": "1fecd970-13ec-436b-8651-cc20b0351359",
   "metadata": {},
   "outputs": [
    {
     "name": "stdout",
     "output_type": "stream",
     "text": [
      "4\n",
      "[1, 5, 'lohi', 3, 6, 5]\n",
      "[1, 5, 'lohi', 3, 6, 5]\n",
      "[1, 5, 'lohi', 3, 6, 'reddy', [10, 20]]\n",
      "[10, 20]\n",
      "[1, 5, 'lohi', 3, 6, 'reddy']\n",
      "[1, 5, 'lohi', 3, 6, 'reddy', [10, 20]]\n",
      "lohi\n",
      "[1, 5, 3, 6, 'reddy', [10, 20]]\n"
     ]
    }
   ],
   "source": [
    "# pop - Removes and returns the last value from the List or the given index value\n",
    "\n",
    "lst = [1,5,'lohi',3,6,5,4]\n",
    "print(lst.pop())\n",
    "print(lst)\n",
    "\n",
    "lst = [1,5,'lohi',3,6,5,4]\n",
    "lst.pop()\n",
    "print(lst)\n",
    "\n",
    "\n",
    "lst = [1,5,'lohi',3,6,'reddy']\n",
    "ls = [10,20]\n",
    "lst.append(ls)\n",
    "print(lst)\n",
    "print(lst.pop())\n",
    "print(lst)\n",
    "\n",
    "\n",
    "lst = [1,5,'lohi',3,6,'reddy']\n",
    "ls = [10,20]\n",
    "lst.append(ls)\n",
    "print(lst)\n",
    "print(lst.pop(2))\n",
    "print(lst)"
   ]
  },
  {
   "cell_type": "code",
   "execution_count": 5,
   "id": "7fa4b4ba-0679-4d5a-9ff9-af885a794f52",
   "metadata": {},
   "outputs": [
    {
     "name": "stdout",
     "output_type": "stream",
     "text": [
      "None\n",
      "['reddy', 6, 3, 'lohi', 5, 1]\n",
      "[1, 5, 'lohi', 3, 6, 'reddy', [10, 20]]\n",
      "None\n"
     ]
    }
   ],
   "source": [
    "# reverse - Reverses the order of the list\n",
    "\n",
    "lst = [1,5,'lohi',3,6,'reddy']\n",
    "print(lst.reverse())\n",
    "\n",
    "lst = [1,5,'lohi',3,6,'reddy']\n",
    "lst.reverse()\n",
    "print(lst)\n",
    "\n",
    "lst = [1,5,'lohi',3,6,'reddy']\n",
    "ls = [10,20]\n",
    "lst.append(ls)\n",
    "print(lst)\n",
    "print(lst.reverse())"
   ]
  },
  {
   "cell_type": "code",
   "execution_count": 9,
   "id": "c6512cd1-164e-4d02-ae04-a38fc3e9243f",
   "metadata": {},
   "outputs": [
    {
     "name": "stdout",
     "output_type": "stream",
     "text": [
      "[1, 5, 'lohi', 3, 6, 'reddy']\n",
      "[1, 5, 'lohi', 3, 6, 'reddy', [10, 20]]\n"
     ]
    }
   ],
   "source": [
    "# copy - Returns a copy of the list\n",
    "\n",
    "lst = [1,5,'lohi',3,6,'reddy']\n",
    "lst1 = lst.copy()\n",
    "print(lst1)\n",
    "\n",
    "lst = [1,5,'lohi',3,6,'reddy']\n",
    "ls = [10,20]\n",
    "lst.append(ls)\n",
    "lst1 = lst.copy()\n",
    "print(lst1)"
   ]
  },
  {
   "cell_type": "code",
   "execution_count": 17,
   "id": "ba92116e-9957-416e-b907-5197088c11b4",
   "metadata": {},
   "outputs": [
    {
     "name": "stdout",
     "output_type": "stream",
     "text": [
      "[0, 1, 2, 3, 4.0]\n",
      "[4.0, 3, 2, 1, 0]\n",
      "['a', 'h', 'h', 'i', 'l', 'o', 't']\n",
      "['L', 'a', 'h', 'h', 'i', 'o', 't']\n",
      "['A', 'E', 'U', 'a', 'e', 'i', 'o']\n"
     ]
    }
   ],
   "source": [
    "# sort - Sort a List in ascending, descending, or user-defined order\n",
    "\n",
    "\"\"\"lst = [1,5,'lohi',3,6,'reddy']\n",
    "lst.sort()\n",
    "print(ls)         #TypeError: '<' not supported between instances of 'str' and 'int'\"\"\"\n",
    "\n",
    "ls = [1,3,4.0,2,0]\n",
    "ls.sort()\n",
    "print(ls)\n",
    "\n",
    "ls = [1,3,4.0,2,0]\n",
    "ls.sort(reverse = True)\n",
    "print(ls)\n",
    "\n",
    "\n",
    "list = ['l','o','h','i','t','h','a']\n",
    "list.sort()\n",
    "print(list)\n",
    "\n",
    "list = ['L','o','h','i','t','h','a']\n",
    "list.sort()\n",
    "print(list)\n",
    "\n",
    "\n",
    "list = ['A','U','E','a','e','o','i']\n",
    "list.sort()\n",
    "print(list)"
   ]
  },
  {
   "cell_type": "code",
   "execution_count": 3,
   "id": "bf9a8ba2-65e9-49e0-a45d-378957c4a9e0",
   "metadata": {},
   "outputs": [
    {
     "name": "stdout",
     "output_type": "stream",
     "text": [
      "1\n",
      "3\n"
     ]
    }
   ],
   "source": [
    "# count - count the elements\n",
    "\n",
    "lst = [1,5,'lohi',3,6,'reddy']\n",
    "print(lst.count('lohi'))\n",
    "\n",
    "lst = [1,5,'lohi',3,6,'reddy',5,5]\n",
    "print(lst.count(5))\n"
   ]
  },
  {
   "cell_type": "code",
   "execution_count": 5,
   "id": "85f1a10e-e89a-4fb0-b507-0e20d2cdfb09",
   "metadata": {},
   "outputs": [
    {
     "name": "stdout",
     "output_type": "stream",
     "text": [
      "1\n",
      "1\n"
     ]
    }
   ],
   "source": [
    "# index - \tReturns the index of the first element with the specified value\n",
    "\n",
    "lst = [1,5,'lohi',3,6,'reddy']\n",
    "print(lst.index(5))\n",
    "\n",
    "lst = [1,5,'lohi',3,6,'reddy',5,5]\n",
    "print(lst.index(5\n"
   ]
  },
  {
   "cell_type": "code",
   "execution_count": 1,
   "id": "82b82565-f642-483e-834d-13fce0f786e7",
   "metadata": {},
   "outputs": [
    {
     "name": "stdout",
     "output_type": "stream",
     "text": [
      "[]\n"
     ]
    }
   ],
   "source": [
    "# Clear - Removes all the elements from the list\n",
    "\n",
    "lst = [1,5,'lohi',3,6,'reddy']\n",
    "lst.clear()\n",
    "print(lst)\n"
   ]
  },
  {
   "cell_type": "code",
   "execution_count": 11,
   "id": "9b7c57ba-364d-4a6a-90ce-c6b6d704d6d3",
   "metadata": {},
   "outputs": [
    {
     "name": "stdout",
     "output_type": "stream",
     "text": [
      "[1, 2, [4, 5]]\n",
      "[[-1, 0], 1, 2, [4, 5]]\n",
      "[[-1, 0], 1, 2, [4, 5], 6, 7]\n",
      "1\n",
      "0\n",
      "[[-1, 0], 1, 2, [4, 5], 6, 7]\n",
      "[4, 5]\n"
     ]
    }
   ],
   "source": [
    "# Nested Lists\n",
    "\n",
    "lst = [1,2]\n",
    "lst1 = [4,5]\n",
    "lst.append(lst1)\n",
    "print(lst)\n",
    "\n",
    "lst2 = [-1,0]\n",
    "lst.insert(0,lst2)\n",
    "print(lst)\n",
    "\n",
    "lst3 =[6,7]\n",
    "lst.extend(lst3)\n",
    "print(lst)\n",
    "\n",
    "\n",
    "# accessing nested lists\n",
    "\n",
    "print(lst[1])\n",
    "print(lst[0][1])\n",
    "print(lst[0:])\n",
    "print(lst[3: ][0])"
   ]
  },
  {
   "cell_type": "code",
   "execution_count": null,
   "id": "426adace-c9da-4fb1-872c-678ea5d27f04",
   "metadata": {},
   "outputs": [],
   "source": []
  }
 ],
 "metadata": {
  "kernelspec": {
   "display_name": "Python 3 (ipykernel)",
   "language": "python",
   "name": "python3"
  },
  "language_info": {
   "codemirror_mode": {
    "name": "ipython",
    "version": 3
   },
   "file_extension": ".py",
   "mimetype": "text/x-python",
   "name": "python",
   "nbconvert_exporter": "python",
   "pygments_lexer": "ipython3",
   "version": "3.12.4"
  }
 },
 "nbformat": 4,
 "nbformat_minor": 5
}
