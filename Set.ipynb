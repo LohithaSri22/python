{
 "cells": [
  {
   "cell_type": "code",
   "execution_count": null,
   "id": "c35ffc8d-5775-43ed-a5cb-386911605c60",
   "metadata": {},
   "outputs": [],
   "source": [
    "add()\n",
    "update()\n",
    "\n",
    "remove()\n",
    "discard()\n",
    "pop()\n",
    "\n",
    "del\n",
    "clear()\n",
    "\n",
    "copy()\n",
    "\n",
    "union()\n",
    "intersection()\n",
    "intersection_update()\n",
    "difference()\n",
    "difference_update()\n",
    "symmetric_difference()\n",
    "symmetric_difference_update()\n",
    "\n",
    "issubset()\n",
    "issuperset()\n",
    "isdisjoint()\n",
    "\n",
    "\n"
   ]
  },
  {
   "cell_type": "code",
   "execution_count": 5,
   "id": "50fbbfd5-607c-4eaf-8ec5-f3bafe73e54a",
   "metadata": {},
   "outputs": [
    {
     "name": "stdout",
     "output_type": "stream",
     "text": [
      "{'apple', 10, 20, 'grapes'}\n",
      "2099079710976\n",
      "4\n",
      "1\n",
      "20\n",
      "apple\n",
      "kiwi\n"
     ]
    }
   ],
   "source": [
    "x = {'apple',10,20,'grapes'}\n",
    "print(x)\n",
    "print(id(x))\n",
    "print(len(x))\n",
    "x = {5,10,20,1}\n",
    "print(min(x))\n",
    "print(max(x))\n",
    "x = {'apple','kiwi','grapes'}\n",
    "print(min(x))\n",
    "print(max(x))"
   ]
  },
  {
   "cell_type": "code",
   "execution_count": 12,
   "id": "00f89a9b-ca30-41eb-acee-43331c2da151",
   "metadata": {},
   "outputs": [
    {
     "name": "stdout",
     "output_type": "stream",
     "text": [
      "{10, 20, 40, 'apple', 'grapes'}\n"
     ]
    }
   ],
   "source": [
    "x = {'apple',10,20,'grapes',40}\n",
    "print(x)"
   ]
  },
  {
   "cell_type": "code",
   "execution_count": 17,
   "id": "528cb4c7-0668-4848-ba0a-63f426863e53",
   "metadata": {},
   "outputs": [
    {
     "name": "stdout",
     "output_type": "stream",
     "text": [
      "{50, 10, 20, 40, 'apple', 'grapes'}\n",
      "{'loh', 50, 10, 20, 40, 'apple', 'grapes'}\n"
     ]
    }
   ],
   "source": [
    "x = {'apple',10,20,'grapes',40}\n",
    "x.add(50)\n",
    "print(x)\n",
    "x.add('loh')\n",
    "print(x)\n"
   ]
  },
  {
   "cell_type": "code",
   "execution_count": 26,
   "id": "8de01d8c-5f0a-4d0d-82db-8bd58882c91a",
   "metadata": {},
   "outputs": [
    {
     "name": "stdout",
     "output_type": "stream",
     "text": [
      "{50, 10, 20, 40, 'apple', 60, 'grapes'}\n",
      "{50, 60}\n",
      "{70, 40, 10, 'apple', 'grapes', 50, 20, 60}\n",
      "{50, 60}\n",
      "{70}\n",
      "{50, 10, 20, 40, 'apple', 60, 'grapes'}\n",
      "{50, 60}\n",
      "{70, 40, 10, 'apple', 'grapes', 50, 20, 60}\n",
      "{50, 60}\n",
      "{70}\n"
     ]
    }
   ],
   "source": [
    "x = {'apple',10,20,'grapes',40}\n",
    "y = {50,60}\n",
    "z = {70}\n",
    "x.update(y)\n",
    "print(x)\n",
    "print(y)\n",
    "x.update(y,z)\n",
    "print(x)\n",
    "print(y)\n",
    "print(z)\n",
    "\n",
    "\n",
    "x = {'apple',10,20,'grapes',40}\n",
    "y = {50,60}\n",
    "z = {70}\n",
    "x |= y\n",
    "print(x)\n",
    "print(y)\n",
    "x |= y|z\n",
    "print(x)\n",
    "print(y)\n",
    "print(z)\n"
   ]
  },
  {
   "cell_type": "code",
   "execution_count": 29,
   "id": "f372d6b6-ef40-4aa1-9ed3-6d5311365358",
   "metadata": {},
   "outputs": [
    {
     "name": "stdout",
     "output_type": "stream",
     "text": [
      "{20, 40, 'apple', 'grapes'}\n"
     ]
    }
   ],
   "source": [
    "x = {'apple',10,20,'grapes',40}\n",
    "x.remove(10)\n",
    "print(x)\n"
   ]
  },
  {
   "cell_type": "code",
   "execution_count": 32,
   "id": "86e2a10d-a833-459f-beb1-7a5f2c8ed259",
   "metadata": {},
   "outputs": [
    {
     "name": "stdout",
     "output_type": "stream",
     "text": [
      "{20, 40, 'apple', 'grapes'}\n",
      "{10, 20, 40, 'apple', 'grapes'}\n"
     ]
    }
   ],
   "source": [
    "x = {'apple',10,20,'grapes',40}\n",
    "x.discard(10)\n",
    "print(x)\n",
    "\n",
    "x = {'apple',10,20,'grapes',40}\n",
    "x.discard(30)\n",
    "print(x)"
   ]
  },
  {
   "cell_type": "code",
   "execution_count": 34,
   "id": "28ff4117-4f8d-49f1-82ab-18aa4ff506dc",
   "metadata": {},
   "outputs": [
    {
     "name": "stdout",
     "output_type": "stream",
     "text": [
      "{20, 40, 'apple', 'grapes'}\n"
     ]
    }
   ],
   "source": [
    "x = {'apple',10,20,'grapes',40}\n",
    "x.pop()\n",
    "print(x)\n",
    "\n",
    "x = {'apple',10,20,'grapes',40}\n",
    "x.pop()\n",
    "print(x)"
   ]
  },
  {
   "cell_type": "code",
   "execution_count": 35,
   "id": "51c86689-9243-4689-830f-32097d1b1ef4",
   "metadata": {},
   "outputs": [
    {
     "ename": "NameError",
     "evalue": "name 'x' is not defined",
     "output_type": "error",
     "traceback": [
      "\u001b[1;31m---------------------------------------------------------------------------\u001b[0m",
      "\u001b[1;31mNameError\u001b[0m                                 Traceback (most recent call last)",
      "Cell \u001b[1;32mIn[35], line 3\u001b[0m\n\u001b[0;32m      1\u001b[0m x \u001b[38;5;241m=\u001b[39m {\u001b[38;5;124m'\u001b[39m\u001b[38;5;124mapple\u001b[39m\u001b[38;5;124m'\u001b[39m,\u001b[38;5;241m10\u001b[39m,\u001b[38;5;241m20\u001b[39m,\u001b[38;5;124m'\u001b[39m\u001b[38;5;124mgrapes\u001b[39m\u001b[38;5;124m'\u001b[39m,\u001b[38;5;241m40\u001b[39m}\n\u001b[0;32m      2\u001b[0m \u001b[38;5;28;01mdel\u001b[39;00m x\n\u001b[1;32m----> 3\u001b[0m \u001b[38;5;28mprint\u001b[39m(\u001b[43mx\u001b[49m)\n",
      "\u001b[1;31mNameError\u001b[0m: name 'x' is not defined"
     ]
    }
   ],
   "source": [
    "x = {'apple',10,20,'grapes',40}\n",
    "del x\n",
    "print(x)"
   ]
  },
  {
   "cell_type": "code",
   "execution_count": 36,
   "id": "525c087e-fdf0-441b-8d27-216e85dc713a",
   "metadata": {},
   "outputs": [
    {
     "name": "stdout",
     "output_type": "stream",
     "text": [
      "set()\n"
     ]
    }
   ],
   "source": [
    "x = {'apple',10,20,'grapes',40}\n",
    "x.clear()\n",
    "print(x)"
   ]
  },
  {
   "cell_type": "code",
   "execution_count": 37,
   "id": "d39b1aec-2d76-429e-b5b3-c17715b07d4d",
   "metadata": {},
   "outputs": [
    {
     "name": "stdout",
     "output_type": "stream",
     "text": [
      "{10, 20, 40, 'apple', 'grapes'}\n"
     ]
    }
   ],
   "source": [
    "x = {'apple',10,20,'grapes',40}\n",
    "y = x.copy()\n",
    "print(y)"
   ]
  },
  {
   "cell_type": "code",
   "execution_count": 43,
   "id": "85eb0e45-77d6-4023-bdc7-113f6d6a232e",
   "metadata": {},
   "outputs": [
    {
     "name": "stdout",
     "output_type": "stream",
     "text": [
      "{50, 10, 20, 40, 'apple', 'grapes'}\n",
      "{50, 10, 20, 40, 'apple', 'grapes', 30}\n",
      "{50, 10, 20, 40, 'apple', 'grapes', 30}\n"
     ]
    }
   ],
   "source": [
    "x = {'apple',10,20,'grapes',40}\n",
    "y = {'apple',10,50}\n",
    "z = {20,30}\n",
    "w = x.union(y)\n",
    "print(w)\n",
    "w = x.union(y,z)\n",
    "print(w)\n",
    "w = x|y|z\n",
    "print(w)\n"
   ]
  },
  {
   "cell_type": "code",
   "execution_count": 49,
   "id": "4f1d61e1-0b26-417d-bd32-d870a2c5bdc4",
   "metadata": {},
   "outputs": [
    {
     "name": "stdout",
     "output_type": "stream",
     "text": [
      "{'apple'}\n",
      "{'apple'}\n"
     ]
    }
   ],
   "source": [
    "x = {'apple',10,20,'grapes',40}\n",
    "y = {'apple',10,50}\n",
    "z = {'apple',20,30}\n",
    "w = x.intersection(y,z)\n",
    "print(w)\n",
    "w = x&y&z\n",
    "print(w)\n"
   ]
  },
  {
   "cell_type": "code",
   "execution_count": 52,
   "id": "4f458280-f28f-404f-82fa-61b72cc7b43b",
   "metadata": {},
   "outputs": [
    {
     "name": "stdout",
     "output_type": "stream",
     "text": [
      "{'apple'}\n",
      "{'apple'}\n"
     ]
    }
   ],
   "source": [
    "x = {'apple',10,20,'grapes',40}\n",
    "y = {'apple',10,50}\n",
    "z = {'apple',20,30}\n",
    "x.intersection_update(y,z)\n",
    "print(x)\n",
    "x&=y&z\n",
    "print(x)"
   ]
  },
  {
   "cell_type": "code",
   "execution_count": 58,
   "id": "068d6aff-81d1-4846-b153-1e1be33e1d70",
   "metadata": {},
   "outputs": [
    {
     "name": "stdout",
     "output_type": "stream",
     "text": [
      "{40, 'grapes'}\n",
      "{40, 'grapes'}\n"
     ]
    }
   ],
   "source": [
    "x = {'apple',10,20,'grapes',40}\n",
    "y = {'apple',10,50}\n",
    "z = {'apple',20,30}\n",
    "w = x.difference(y,z)\n",
    "print(w)\n",
    "w = x-y-z\n",
    "print(w)"
   ]
  },
  {
   "cell_type": "code",
   "execution_count": 59,
   "id": "54855c0c-d948-42e6-b037-70dafc6d191f",
   "metadata": {},
   "outputs": [
    {
     "name": "stdout",
     "output_type": "stream",
     "text": [
      "{40, 'grapes'}\n",
      "{40, 'grapes'}\n"
     ]
    }
   ],
   "source": [
    "x = {'apple',10,20,'grapes',40}\n",
    "y = {'apple',10,50}\n",
    "z = {'apple',20,30}\n",
    "x.difference_update(y,z)\n",
    "print(x)\n",
    "x -= y-z\n",
    "print(x)"
   ]
  },
  {
   "cell_type": "code",
   "execution_count": 62,
   "id": "788c2081-0d69-4342-a679-9b3e085c743a",
   "metadata": {},
   "outputs": [
    {
     "name": "stdout",
     "output_type": "stream",
     "text": [
      "{40, 'grapes', 50, 20}\n",
      "{40, 'grapes', 50, 20}\n"
     ]
    }
   ],
   "source": [
    "x = {'apple',10,20,'grapes',40}\n",
    "y = {'apple',10,50}\n",
    "w = x.symmetric_difference(y)\n",
    "print(w)\n",
    "\n",
    "x = {'apple',10,20,'grapes',40}\n",
    "y = {'apple',10,50}\n",
    "w = x^y\n",
    "print(w)"
   ]
  },
  {
   "cell_type": "code",
   "execution_count": 68,
   "id": "af1f341f-7027-4b75-a5fa-da94c48a4b2f",
   "metadata": {},
   "outputs": [
    {
     "name": "stdout",
     "output_type": "stream",
     "text": [
      "{50, 20, 40, 'grapes'}\n",
      "{50, 20, 40, 'grapes'}\n"
     ]
    }
   ],
   "source": [
    "x = {'apple',10,20,'grapes',40}\n",
    "y = {'apple',10,50}\n",
    "x.symmetric_difference_update(y)\n",
    "print(x)\n",
    "\n",
    "x = {'apple',10,20,'grapes',40}\n",
    "y = {'apple',10,50}\n",
    "x^=y\n",
    "print(x)"
   ]
  },
  {
   "cell_type": "code",
   "execution_count": 70,
   "id": "9bdb174f-4449-4f09-b1b0-a139c40f2769",
   "metadata": {},
   "outputs": [
    {
     "name": "stdout",
     "output_type": "stream",
     "text": [
      "True\n"
     ]
    }
   ],
   "source": [
    "x = {'apple',10,20,'grapes',40}\n",
    "y = {'apple',10}\n",
    "z = y.issubset(x)\n",
    "print(z)"
   ]
  },
  {
   "cell_type": "code",
   "execution_count": 72,
   "id": "3d17e994-3aeb-4114-8fc1-e39b65dfe966",
   "metadata": {},
   "outputs": [
    {
     "name": "stdout",
     "output_type": "stream",
     "text": [
      "True\n",
      "True\n"
     ]
    }
   ],
   "source": [
    "x = {'apple',10,20,'grapes',40}\n",
    "y = {'apple',10}\n",
    "z = y.issubset(x)\n",
    "print(z)\n",
    "z = y<=(x)\n",
    "print(z)"
   ]
  },
  {
   "cell_type": "code",
   "execution_count": 73,
   "id": "919d2599-52c9-4466-a146-b7c2b6c7f480",
   "metadata": {},
   "outputs": [
    {
     "name": "stdout",
     "output_type": "stream",
     "text": [
      "True\n",
      "True\n"
     ]
    }
   ],
   "source": [
    "x = {'apple',10,20,'grapes',40}\n",
    "y = {'apple',10}\n",
    "z = x.issuperset(y)\n",
    "print(z)\n",
    "z = x>=(y)\n",
    "print(z)"
   ]
  },
  {
   "cell_type": "code",
   "execution_count": 79,
   "id": "8a3625da-cab4-495a-bffb-da6217d0f3d9",
   "metadata": {},
   "outputs": [
    {
     "name": "stdout",
     "output_type": "stream",
     "text": [
      "False\n",
      "False\n",
      "True\n"
     ]
    }
   ],
   "source": [
    "x = {'apple',10,20,'grapes',40}\n",
    "y = {'apple',10}\n",
    "z = x.isdisjoint(y)\n",
    "print(z)\n",
    "\n",
    "x = {'apple',10,20,'grapes',40}\n",
    "y = {'apple',10,20,'grapes',40}\n",
    "z = x.isdisjoint(y)\n",
    "print(z)\n",
    "\n",
    "x = {'apple',10,20,'grapes',40}\n",
    "y = {'apples',11,22,'grapess',400}\n",
    "z = x.isdisjoint(y)\n",
    "print(z)"
   ]
  },
  {
   "cell_type": "code",
   "execution_count": null,
   "id": "6d3d17c4-8846-491f-8187-30287a95fc42",
   "metadata": {},
   "outputs": [],
   "source": []
  }
 ],
 "metadata": {
  "kernelspec": {
   "display_name": "Python 3 (ipykernel)",
   "language": "python",
   "name": "python3"
  },
  "language_info": {
   "codemirror_mode": {
    "name": "ipython",
    "version": 3
   },
   "file_extension": ".py",
   "mimetype": "text/x-python",
   "name": "python",
   "nbconvert_exporter": "python",
   "pygments_lexer": "ipython3",
   "version": "3.12.4"
  }
 },
 "nbformat": 4,
 "nbformat_minor": 5
}
