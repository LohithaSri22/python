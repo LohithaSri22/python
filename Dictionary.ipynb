{
 "cells": [
  {
   "cell_type": "code",
   "execution_count": null,
   "id": "50859b29-c58b-467e-8cda-1ad5317a9f87",
   "metadata": {},
   "outputs": [],
   "source": [
    "keys()\n",
    "values()\n",
    "get()\n",
    "items()\n",
    "update()\n",
    "pop()\n",
    "popitem()\n",
    "clear()\n",
    "copy()"
   ]
  },
  {
   "cell_type": "code",
   "execution_count": 11,
   "id": "8894ea2f-2ef6-4b78-85a3-e4a5f689a99c",
   "metadata": {},
   "outputs": [],
   "source": [
    "dict = {\n",
    "    \"fruit\":\"grapes\",\n",
    "    \"vegetable\":\"capsicum\",\n",
    "    \"junk\":\"pizza\",\n",
    "    \"icecream\":\"chocolate\"\n",
    "    }\n"
   ]
  },
  {
   "cell_type": "code",
   "execution_count": 10,
   "id": "730cb29d-64f7-4043-8d8f-28d7115f8941",
   "metadata": {},
   "outputs": [
    {
     "name": "stdout",
     "output_type": "stream",
     "text": [
      "<class 'dict'>\n",
      "4\n",
      "fruit\n",
      "vegetable\n"
     ]
    }
   ],
   "source": [
    "dict = {\n",
    "    \"fruit\":\"grapes\",\n",
    "    \"vegetable\":\"capsicum\",\n",
    "    \"junk\":\"pizza\",\n",
    "    \"icecream\":\"chocolate\"\n",
    "    }\n",
    "print(type(dict))\n",
    "print(len(dict))\n",
    "print(min(dict))\n",
    "print(max(dict))\n"
   ]
  },
  {
   "cell_type": "code",
   "execution_count": 16,
   "id": "aab779c4-0133-4f40-81ba-36c628fb7553",
   "metadata": {},
   "outputs": [
    {
     "name": "stdout",
     "output_type": "stream",
     "text": [
      "{'fruit': 'grapes', 'vegetable': 'capsicum', 'junk': 'pizza', 'icecream': 'chocolate'}\n",
      "<class 'dict'>\n",
      "dict_keys(['fruit', 'vegetable', 'junk', 'icecream'])\n",
      "dict_values(['grapes', 'capsicum', 'pizza', 'chocolate'])\n"
     ]
    }
   ],
   "source": [
    "dict = {\n",
    "    \"fruit\":\"grapes\",\n",
    "    \"vegetable\":\"capsicum\",\n",
    "    \"junk\":\"pizza\",\n",
    "    \"icecream\":\"chocolate\"\n",
    "    }\n",
    "print(dict)\n",
    "print(type(dict))\n",
    "print(dict.keys())\n",
    "print(dict.values())"
   ]
  },
  {
   "cell_type": "code",
   "execution_count": 1,
   "id": "e395fffb-4841-4d2d-8eaf-0d57e1445628",
   "metadata": {},
   "outputs": [
    {
     "name": "stdout",
     "output_type": "stream",
     "text": [
      "grapes\n",
      "None\n",
      "pizza\n",
      "pizza\n"
     ]
    }
   ],
   "source": [
    "dict = {\n",
    "    \"fruit\":\"grapes\",\n",
    "    \"vegetable\":\"capsicum\",\n",
    "    \"junk\":\"pizza\",\n",
    "    \"icecream\":\"chocolate\"\n",
    "    }\n",
    "print(dict.get(\"fruit\"))\n",
    "print(dict.get(\"pizza\"))\n",
    "print(dict.get(\"junk\",\"pizza\"))\n",
    "print(dict.get(\"junk\",\"donut\"))"
   ]
  },
  {
   "cell_type": "code",
   "execution_count": 17,
   "id": "e3e660c8-e026-4ff8-8ca2-73a27a46988e",
   "metadata": {},
   "outputs": [
    {
     "name": "stdout",
     "output_type": "stream",
     "text": [
      "dict_items([('fruit', 'grapes'), ('vegetable', 'capsicum'), ('junk', 'pizza'), ('icecream', 'chocolate')])\n"
     ]
    }
   ],
   "source": [
    "dict = {\n",
    "    \"fruit\":\"grapes\",\n",
    "    \"vegetable\":\"capsicum\",\n",
    "    \"junk\":\"pizza\",\n",
    "    \"icecream\":\"chocolate\"\n",
    "    }\n",
    "print(dict.items())"
   ]
  },
  {
   "cell_type": "code",
   "execution_count": 19,
   "id": "60c3e3ee-9635-4b66-9b77-5459052dcf68",
   "metadata": {},
   "outputs": [
    {
     "name": "stdout",
     "output_type": "stream",
     "text": [
      "dict_items([('fruit', 'grapes'), ('vegetable', 'capsicum'), ('junk', 'pizza'), ('icecream', 'chocolate')])\n"
     ]
    }
   ],
   "source": [
    "d = {\n",
    "    \"fruit\":\"grapes\",\n",
    "    \"vegetable\":\"capsicum\",\n",
    "    \"junk\":\"pizza\",\n",
    "    \"icecream\":\"chocolate\"\n",
    "    }\n",
    "print(d.items())"
   ]
  },
  {
   "cell_type": "code",
   "execution_count": 27,
   "id": "973159a6-733e-48b7-9aa1-9911424288da",
   "metadata": {},
   "outputs": [
    {
     "name": "stdout",
     "output_type": "stream",
     "text": [
      "{'fruit': 'grapes', 'vegetable': 'capsicum', 'junk': 'donut', 'icecream': 'chocolate'}\n",
      "{'fruit': 'grapes', 'vegetable': 'capsicum', 'junk': 'pizza', 'icecream': 'chocolate'}\n",
      "None\n",
      "{'fruit': 'grapes', 'vegetable': 'capsicum', 'junk': 'pizza', 'icecream': 'chocolate', 'drink': 'milkshakes'}\n"
     ]
    }
   ],
   "source": [
    "dict = {\n",
    "    \"fruit\":\"grapes\",\n",
    "    \"vegetable\":\"capsicum\",\n",
    "    \"junk\":\"pizza\",\n",
    "    \"icecream\":\"chocolate\"\n",
    "    }\n",
    "dict[\"junk\"] = \"donut\"\n",
    "print(dict)\n",
    "\n",
    "dict.update({\"junk\":\"pizza\"})\n",
    "print(dict)\n",
    "\n",
    "print(dict.update({\"junk\":\"pizza\"}))\n",
    "\n",
    "dict.update({\"drink\":\"milkshakes\"})\n",
    "print(dict)"
   ]
  },
  {
   "cell_type": "code",
   "execution_count": 8,
   "id": "87f9f219-771f-47c9-8d53-8dcb75a13851",
   "metadata": {},
   "outputs": [
    {
     "name": "stdout",
     "output_type": "stream",
     "text": [
      "{'fruit': 'grapes', 'vegetable': 'capsicum', 'junk': 'pizza', 'icecream': 'chocolate'}\n",
      "{'fruit': 'grapes', 'vegetable': 'capsicum', 'icecream': 'chocolate'}\n",
      "{'fruit': 'grapes', 'vegetable': 'capsicum'}\n"
     ]
    }
   ],
   "source": [
    "dict = {\n",
    "    \"fruit\":\"grapes\",\n",
    "    \"vegetable\":\"capsicum\",\n",
    "    \"junk\":\"pizza\",\n",
    "    \"icecream\":\"chocolate\"\n",
    "    }\n",
    "print(dict)\n",
    "dict.pop(\"junk\")\n",
    "print(dict)\n",
    "dict.pop(\"icecream\")\n",
    "print(dict)"
   ]
  },
  {
   "cell_type": "code",
   "execution_count": 10,
   "id": "7c084ef0-adaa-4202-ba78-cd6dad16cc4f",
   "metadata": {},
   "outputs": [
    {
     "name": "stdout",
     "output_type": "stream",
     "text": [
      "{'fruit': 'grapes', 'vegetable': 'capsicum', 'junk': 'pizza', 'icecream': 'chocolate'}\n",
      "{'fruit': 'grapes', 'vegetable': 'capsicum', 'junk': 'pizza'}\n"
     ]
    }
   ],
   "source": [
    "dict = {\n",
    "    \"fruit\":\"grapes\",\n",
    "    \"vegetable\":\"capsicum\",\n",
    "    \"junk\":\"pizza\",\n",
    "    \"icecream\":\"chocolate\"\n",
    "    }\n",
    "print(dict)\n",
    "dict.popitem()\n",
    "print(dict)"
   ]
  },
  {
   "cell_type": "code",
   "execution_count": 12,
   "id": "fe6d39d3-ae65-429d-92d1-11644d3c6a5e",
   "metadata": {},
   "outputs": [
    {
     "name": "stdout",
     "output_type": "stream",
     "text": [
      "{'fruit': 'grapes', 'vegetable': 'capsicum', 'junk': 'pizza', 'icecream': 'chocolate'}\n"
     ]
    }
   ],
   "source": [
    "dict = {\n",
    "    \"fruit\":\"grapes\",\n",
    "    \"vegetable\":\"capsicum\",\n",
    "    \"junk\":\"pizza\",\n",
    "    \"icecream\":\"chocolate\"\n",
    "    }\n",
    "d = dict.copy()\n",
    "print(d)"
   ]
  },
  {
   "cell_type": "code",
   "execution_count": 14,
   "id": "d65341d7-0bc2-4281-a740-44f14c184e73",
   "metadata": {},
   "outputs": [
    {
     "name": "stdout",
     "output_type": "stream",
     "text": [
      "None\n",
      "None\n"
     ]
    }
   ],
   "source": [
    "dict = {\n",
    "    \"fruit\":\"grapes\",\n",
    "    \"vegetable\":\"capsicum\",\n",
    "    \"junk\":\"pizza\",\n",
    "    \"icecream\":\"chocolate\"\n",
    "    }\n",
    "d = dict.clear()\n",
    "print(d)\n",
    "print(dict.clear())"
   ]
  },
  {
   "cell_type": "code",
   "execution_count": 8,
   "id": "91aae983-c53c-4d71-95a6-14c66685b589",
   "metadata": {},
   "outputs": [],
   "source": [
    "dict = {\n",
    "    \"fruit\":\"grapes\",\n",
    "    \"vegetable\":\"capsicum\",\n",
    "    \"junk\":\"pizza\",\n",
    "    \"icecream\":\"chocolate\"\n",
    "    }\n"
   ]
  },
  {
   "cell_type": "code",
   "execution_count": null,
   "id": "83d6c4ce-83ed-4a44-8bde-0806142ef571",
   "metadata": {},
   "outputs": [],
   "source": []
  }
 ],
 "metadata": {
  "kernelspec": {
   "display_name": "Python 3 (ipykernel)",
   "language": "python",
   "name": "python3"
  },
  "language_info": {
   "codemirror_mode": {
    "name": "ipython",
    "version": 3
   },
   "file_extension": ".py",
   "mimetype": "text/x-python",
   "name": "python",
   "nbconvert_exporter": "python",
   "pygments_lexer": "ipython3",
   "version": "3.12.4"
  }
 },
 "nbformat": 4,
 "nbformat_minor": 5
}
