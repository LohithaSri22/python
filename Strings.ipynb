{
 "cells": [
  {
   "cell_type": "code",
   "execution_count": 3,
   "id": "68a9d141-b4fa-4f6c-9c19-bc7f55426c32",
   "metadata": {},
   "outputs": [
    {
     "name": "stdout",
     "output_type": "stream",
     "text": [
      "lohi\n",
      "lohi\n",
      "My name is lohitha\n",
      "     My hobbies are nothing\n",
      "     My weakness is nothing\n",
      "My name is lohitha\n",
      "     My hobbies are nothing\n",
      "     My weakness is nothing\n"
     ]
    }
   ],
   "source": [
    "#Strings\n",
    "\n",
    "a = 'lohi'\n",
    "print(a)\n",
    "\n",
    "a = \"lohi\"\n",
    "print(a)\n",
    "\n",
    "a = '''My name is lohitha\n",
    "     My hobbies are nothing\n",
    "     My weakness is nothing'''\n",
    "print(a)\n",
    "\n",
    "a = \"\"\"My name is lohitha\n",
    "     My hobbies are nothing\n",
    "     My weakness is nothing\"\"\"\n",
    "print(a)"
   ]
  },
  {
   "cell_type": "code",
   "execution_count": 5,
   "id": "133de311-e83c-49c1-9294-aa4daca336d7",
   "metadata": {},
   "outputs": [
    {
     "name": "stdout",
     "output_type": "stream",
     "text": [
      "My name is 'lohitha'\n",
      "My name is \"lohitha\"\n",
      "her name is 'leena', she's a nice girl\n",
      "her name is \"leena\", she's a nice girl\n",
      "docs\n",
      "docs\n",
      "docs\\ndocs\n"
     ]
    }
   ],
   "source": [
    "a = \"My name is 'lohitha'\"\n",
    "print(a)\n",
    "\n",
    "a = 'My name is \"lohitha\"'\n",
    "print(a)\n",
    "\n",
    "a = \"her name is 'leena', she's a nice girl\"\n",
    "print(a)\n",
    "\n",
    "a = 'her name is \"leena\", she\\'s a nice girl'\n",
    "print(a)\n",
    "\n",
    "a = \"docs\\ndocs\"\n",
    "print(a)\n",
    "\n",
    "#------\\ just skip the special meaning of that single qoute\n",
    "a = \"docs\\\\ndocs\"\n",
    "print(a)\n"
   ]
  },
  {
   "cell_type": "code",
   "execution_count": 7,
   "id": "7da48abb-8e1c-4f0c-97f7-cae19965b739",
   "metadata": {},
   "outputs": [
    {
     "name": "stdout",
     "output_type": "stream",
     "text": [
      "l\n",
      "a\n",
      "ohi\n",
      "t\n",
      "0000000000\n",
      "\n",
      "ha\n",
      "hit\n",
      "lht\n",
      "0000000000\n",
      "lhta\n",
      "oih\n",
      "ohith\n",
      "ohitha\n",
      "lohit\n"
     ]
    }
   ],
   "source": [
    "a = 'lohitha'\n",
    "print(a[0])                  \n",
    "print(a[-1])                \n",
    "print(a[1:4])                \n",
    "print(a[-3:5]) \n",
    "print('0000000000')\n",
    "print(a[-2:-4])       \n",
    "print(a[-2:])         \n",
    "print(a[-5:-2])       \n",
    "print(a[0:6:2])\n",
    "print('0000000000')\n",
    "print(a[0:7:2])     \n",
    "print(a[-6:-1:2]) \n",
    "print(a[-6:-1]) \n",
    "print(a[1:]) \n",
    "print(a[:5]) "
   ]
  },
  {
   "cell_type": "code",
   "execution_count": null,
   "id": "bfc18c77-2ddd-449f-904a-81e098e8c655",
   "metadata": {},
   "outputs": [],
   "source": [
    "#string methods\n",
    "'''\n",
    "capitalize - uppercase the first letter in the sentence\n",
    "string.capitalize()-no parameters\n",
    "'''\n",
    "\n",
    "'''\n",
    "casefold -  Convert the string into lower case:\n",
    "string.casefold()-no parameters\n",
    "'''\n",
    "\n",
    "'''\n",
    "swapcase - The method returns a string where all the upper case letters are lower case and vice versa.\n",
    "string.swapcase()-no parameters\n",
    "'''\n",
    "\n",
    "'''\n",
    "upper - \tConverts a string into upper case\n",
    "string.upper()-no parameters\n",
    "'''\n",
    "\n",
    "'''\n",
    "lower - Converts a string into lower case\n",
    "string.lower()-no parameters\n",
    "'''\n",
    "\n",
    "\n",
    "\n",
    "'''\n",
    "center - Returns a centered string\n",
    "string.center(length, character)\n",
    "parameters-\n",
    "length -  The length of the returned string\n",
    "character -\tOptional. The character to fill the missing space on each side. Default is \" \" (space)\n",
    "'''\n",
    "'''\n",
    "The ljust() method will left align the string, using a specified character (space is default) as the fill character.\n",
    "string.ljust(length, character)\n",
    "length - Required. The length of the returned string\n",
    "character -\tOptional. A character to fill the missing space (to the right of the string). Default is \" \" (space).\n",
    "'''\n",
    "'''\n",
    "The rjust() method will right align the string, using a specified character (space is default) as the fill character.\n",
    "string.rjust(length, character)\n",
    "length - Required. The length of the returned string\n",
    "character -\tOptional. A character to fill the missing space (to the left of the string). Default is \" \" (space).\n",
    "'''\n",
    "\n",
    "'''\n",
    "count - returns the number of times a specified value appears in the string.\n",
    "string.count(value, start, end)\n",
    "value -  A String. The string to value to search for\n",
    "start - Optional. An Integer. The position to start the search. Default is 0\n",
    "end\t- Optional. An Integer. The position to end the search. Default is the end of the string\n",
    "'''\n",
    "\n",
    "\n",
    "\n",
    "'''\n",
    "endswith -  returns True if the string ends with the specified value, otherwise False.\n",
    "string.endswith(value, start, end)\n",
    "value -\tRequired. The value to check if the string ends with\n",
    "start - Optional. An Integer specifying at which position to start the search\n",
    "end\t- Optional. An Integer specifying at which position to end the search\n",
    "'''\n",
    "\n",
    "'''\n",
    "The startswith() method returns True if the string starts with the specified value, otherwise False.\n",
    "string.startswith(value, start, end)\n",
    "value -\tRequired. The value to check if the string starts with\n",
    "start -\tOptional. An Integer specifying at which position to start the search\n",
    "end  -\tOptional. An Integer specifying at which position to end the search\n",
    "'''\n",
    "\n",
    "'''\n",
    "expandtabs - The expandtabs() method sets the tab size to the specified number of whitespaces. \n",
    "string.expandtabs(tabsize)\n",
    "tabsize - Optional. A number specifying the tabsize. Default tabsize is 8\n",
    "'''\n",
    "\n",
    "\n",
    "\n",
    "'''\n",
    "The find() method finds the first occurrence of the specified value.\n",
    "The find() method returns -1 if the value is not found.\n",
    "The find() method is almost the same as the index() method, the only difference is that the index() method raises an exception if the value is not found. (See example below)\n",
    "string.find(value, start, end)\n",
    "value\tRequired. The value to search for\n",
    "start\tOptional. Where to start the search. Default is 0\n",
    "end\tOptional. Where to end the search. Default is to the end of the string\n",
    "'''\n",
    "'''\n",
    "The rfind() method finds the last occurrence of the specified value.\n",
    "The rfind() method returns -1 if the value is not found.\n",
    "The rfind() method is almost the same as the rindex() method. See example below.\n",
    "\n",
    "string.rfind(value, start, end)\n",
    "value\tRequired. The value to search for\n",
    "start\tOptional. Where to start the search. Default is 0\n",
    "end\tOptional. Where to end the search. Default is to the end of the string\n",
    "'''\n",
    "\n",
    "\n",
    "\n",
    "'''\n",
    "The index() method finds the first occurrence of the specified value.\n",
    "The index() method raises an exception if the value is not found.\n",
    "The index() method is almost the same as the find() method, the only difference is that the find() method returns -1 if the value is not found. (See example below)\n",
    "string.index(value, start, end)\n",
    "value -\tRequired. The value to search for\n",
    "start -\tOptional. Where to start the search. Default is 0\n",
    "end\t- Optional. Where to end the search. Default is to the end of the string\n",
    "'''\n",
    "\n",
    "'''\n",
    "The replace() method replaces a specified phrase with another specified phrase.\n",
    "string.replace(oldvalue, newvalue, count)\n",
    "oldvalue -\tRequired. The string to search for\n",
    "newvalue -\tRequired. The string to replace the old value with\n",
    "count -\tOptional. A number specifying how many occurrences of the old value you want to replace. Default is all occurrences\n",
    "'''\n",
    "\n",
    "\n",
    "\n",
    "'''\n",
    "The isalnum() method returns True if all the characters are alphanumeric, meaning alphabet letter (a-z) and numbers (0-9).\n",
    "string.isalnum()\n",
    "No parameters\n",
    "'''\n",
    "\n",
    "'''The isalpha() method returns True if all the characters are alphabet letters (a-z).\n",
    "string.isalpha()\n",
    "No parameters.\n",
    "'''\n",
    "\n",
    "'''\n",
    "The islower() method returns True if all the characters are in lower case, otherwise False.\n",
    "Numbers, symbols and spaces are not checked, only alphabet characters.\n",
    "string.islower()\n",
    "No parameters.\n",
    "'''\n",
    "\n",
    "'''\n",
    "The isupper() method returns True if all the characters are in upper case, otherwise False.\n",
    "Numbers, symbols and spaces are not checked, only alphabet characters.\n",
    "string.isupper()\n",
    "No parameters.\n",
    "'''\n",
    "\n",
    "'''\n",
    "The isspace() method returns True if all the characters in a string are whitespaces, otherwise False.\n",
    "string.isspace()\n",
    "No Parameters\n",
    "'''\n",
    "\n",
    "'''\n",
    "The isascii() method returns True if all the characters are ascii characters  (a-z).\n",
    "string.isascii()\n",
    "No parameters.\n",
    "'''\n",
    "\n",
    "'''\n",
    "The isdecimal() method returns True if all the characters are decimals (0-9).\n",
    "string.isdecimal()\n",
    "No parameters\n",
    "'''\n",
    "\n",
    "'''\n",
    "The isnumeric() method returns True if all the characters are numeric (0-9), otherwise False.\n",
    "Exponents, like ² and ¾ are also considered to be numeric values.\n",
    "\"-1\" and \"1.5\" are NOT considered numeric values, because all the characters in the string must be numeric, and the - and the . are not.\n",
    "string.isnumeric()\n",
    "No parameters.\n",
    "'''\n",
    "\n",
    "'''\n",
    "The isidentifier() method returns True if the string is a valid identifier, otherwise False.\n",
    "A string is considered a valid identifier if it only contains alphanumeric letters (a-z) and (0-9), or underscores (_). \n",
    "A valid identifier cannot start with a number, or contain any spaces.\n",
    "string.isidentifier()\n",
    "No parameters\n",
    "'''\n",
    "\n",
    "'''\n",
    "The isprintable() method returns True if all the characters are printable, otherwise False.\n",
    "string.isprintable()\n",
    "No parameters\n",
    "'''\n",
    "\n",
    "'''\n",
    "The istitle() method returns True if all words in a text start with a upper case letter, AND the rest of the word are lower case letters.\n",
    "string.istitle()\n",
    "No parameters.\n",
    "'''\n",
    "\n",
    "\n",
    "'''\n",
    "The strip() method removes any leading, and trailing whitespaces.\n",
    "Leading means at the beginning of the string, trailing means at the end.\n",
    "You can specify which character(s) to remove, if not, any whitespaces will be removed.\n",
    "string.strip(characters)\n",
    "characters\tOptional. A set of characters to remove as leading/trailing characters\n",
    "'''\n",
    "'''\n",
    "The lstrip() method removes any leading characters (space is the default leading character to remove)\n",
    "string.lstrip(characters)\n",
    "characters - Optional. A set of characters to remove as leading characters\n",
    "'''\n",
    "'''\n",
    "The rstrip() method removes any trailing characters (characters at the end a string), space is the default trailing character to remove.\n",
    "string.rstrip(characters)\n",
    "characters\tOptional. A set of characters to remove as trailing characters\n",
    "'''"
   ]
  },
  {
   "cell_type": "code",
   "execution_count": 28,
   "id": "b19b35e0-4d25-4421-97d1-906ccc1f8dc1",
   "metadata": {},
   "outputs": [
    {
     "name": "stdout",
     "output_type": "stream",
     "text": [
      "Lohithasri\n",
      "Lohithasri\n",
      "Lohithasri\n",
      "5 is my lucky number\n"
     ]
    }
   ],
   "source": [
    "#capitalize\n",
    "\n",
    "'''\n",
    "capitalize - uppercase the first letter in the sentence\n",
    "string.capitalize()-no parameters\n",
    "'''\n",
    "\n",
    "a = \"lohithasri\"\n",
    "print(a.capitalize())\n",
    "\n",
    "a = \"lohithasri\"\n",
    "b = a.capitalize()\n",
    "print(b)\n",
    "\n",
    "a = \"LohithaSri\"\n",
    "b = a.capitalize()\n",
    "print(b)\n",
    "\n",
    "a = \"5 is my lucky number\"\n",
    "b = a.capitalize()\n",
    "print(b)\n",
    "\n"
   ]
  },
  {
   "cell_type": "code",
   "execution_count": 27,
   "id": "8eb91b87-c723-46c0-8f34-ccf0a8368907",
   "metadata": {},
   "outputs": [
    {
     "name": "stdout",
     "output_type": "stream",
     "text": [
      "lohitha\n",
      "lohithasri\n",
      "lohitha\n"
     ]
    }
   ],
   "source": [
    "#casefold\n",
    "\n",
    "'''\n",
    "casefold -  Convert the string into lower case:\n",
    "string.casefold()-no parameters\n",
    "'''\n",
    "\n",
    "a = \"Lohitha\"\n",
    "print(a.casefold())\n",
    "\n",
    "a = \"LohithaSri\"\n",
    "b = a.casefold()\n",
    "print(b)\n",
    "\n",
    "a = \"LohiTHA\"\n",
    "b = a.casefold()\n",
    "print(b)"
   ]
  },
  {
   "cell_type": "code",
   "execution_count": 29,
   "id": "e06330f7-3e56-48f2-94da-976d643b9209",
   "metadata": {},
   "outputs": [
    {
     "name": "stdout",
     "output_type": "stream",
     "text": [
      "lOHI sRI\n",
      "LOHI\n",
      "lOhI\n",
      "LOHI5\n"
     ]
    }
   ],
   "source": [
    "#swapcase\n",
    "\n",
    "'''\n",
    "swapcase - The method returns a string where all the upper case letters are lower case and vice versa.\n",
    "string.swapcase()-no parameters\n",
    "'''\n",
    "\n",
    "\n",
    "a='Lohi Sri'\n",
    "print(a.swapcase())\n",
    "\n",
    "a = 'lohi'\n",
    "print(a.swapcase())\n",
    "\n",
    "a = 'LoHi'\n",
    "print(a.swapcase())\n",
    "\n",
    "a = 'lohi5'\n",
    "print(a.swapcase())"
   ]
  },
  {
   "cell_type": "code",
   "execution_count": 30,
   "id": "6bb424ca-e78a-407d-a9d5-f4ad571d5e67",
   "metadata": {},
   "outputs": [
    {
     "name": "stdout",
     "output_type": "stream",
     "text": [
      "LOHI\n",
      "LOHI5\n",
      "LOHI_\n"
     ]
    }
   ],
   "source": [
    "#upper\n",
    "\n",
    "'''\n",
    "upper - \tConverts a string into upper case\n",
    "string.upper()-no parameters\n",
    "'''\n",
    "\n",
    "a = 'lohi'\n",
    "print(a.upper())\n",
    "\n",
    "a = 'LoHi5'\n",
    "print(a.upper())\n",
    "\n",
    "a = 'LOHI_'\n",
    "print(a.upper())"
   ]
  },
  {
   "cell_type": "code",
   "execution_count": 31,
   "id": "6f06bf7e-3243-4d10-a907-7265caff1499",
   "metadata": {},
   "outputs": [
    {
     "name": "stdout",
     "output_type": "stream",
     "text": [
      "lohi\n",
      "lohi\n",
      "1lohi\n"
     ]
    }
   ],
   "source": [
    "#lower\n",
    "\n",
    "'''\n",
    "lower - Converts a string into lower case\n",
    "string.lower()-no parameters\n",
    "'''\n",
    "\n",
    "a= 'LOHI'\n",
    "print(a.lower())\n",
    "\n",
    "a = 'LoHi'\n",
    "print(a.lower())\n",
    "\n",
    "a = '1Lohi'\n",
    "print(a.lower())"
   ]
  },
  {
   "cell_type": "code",
   "execution_count": 32,
   "id": "c90e1057-c9ec-40c1-9b11-4795d938e18d",
   "metadata": {},
   "outputs": [
    {
     "name": "stdout",
     "output_type": "stream",
     "text": [
      "        lohi        \n",
      "OOOOOOOOlohiOOOOOOOO\n"
     ]
    }
   ],
   "source": [
    "#center\n",
    "\n",
    "'''\n",
    "center - Returns a centered string\n",
    "string.center(length, character)\n",
    "parameters-\n",
    "length -  The length of the returned string\n",
    "character -\tOptional. The character to fill the missing space on each side. Default is \" \" (space)\n",
    "'''\n",
    "\n",
    "a = \"lohi\"\n",
    "print(a.center(20))\n",
    "print(a.center(20,'O'))"
   ]
  },
  {
   "cell_type": "code",
   "execution_count": 34,
   "id": "66b80174-9e81-4acb-b419-1a645bee0323",
   "metadata": {},
   "outputs": [
    {
     "name": "stdout",
     "output_type": "stream",
     "text": [
      "lohiOOOOOOOOOOOOOOOO\n"
     ]
    }
   ],
   "source": [
    "#ljust\n",
    "\n",
    "'''\n",
    "The ljust() method will left align the string, using a specified character (space is default) as the fill character.\n",
    "string.ljust(length, character)\n",
    "length - Required. The length of the returned string\n",
    "character -\tOptional. A character to fill the missing space (to the right of the string). Default is \" \" (space).\n",
    "'''\n",
    "\n",
    "a = 'lohi'\n",
    "print(a.ljust(20,'O'))"
   ]
  },
  {
   "cell_type": "code",
   "execution_count": 37,
   "id": "4b824538-cf54-472c-b198-e50b5ee6a1b1",
   "metadata": {},
   "outputs": [
    {
     "name": "stdout",
     "output_type": "stream",
     "text": [
      "OOOOOOOOOOOOOOOOlohi\n",
      "OOOOOOOOOOOOOOO_lohi\n"
     ]
    }
   ],
   "source": [
    "#rjust \n",
    "\n",
    "'''\n",
    "The rjust() method will right align the string, using a specified character (space is default) as the fill character.\n",
    "string.rjust(length, character)\n",
    "length - Required. The length of the returned string\n",
    "character -\tOptional. A character to fill the missing space (to the left of the string). Default is \" \" (space).\n",
    "'''\n",
    "a = 'lohi'\n",
    "print(a.rjust(20,'O'))\n",
    "a = '_lohi'\n",
    "print(a.rjust(20,'O'))\n"
   ]
  },
  {
   "cell_type": "code",
   "execution_count": 5,
   "id": "2ffd7123-d87a-4a25-8fc0-5ef6bf2dce69",
   "metadata": {},
   "outputs": [
    {
     "name": "stdout",
     "output_type": "stream",
     "text": [
      "3\n",
      "4\n",
      "1\n",
      "4\n",
      "3\n",
      "3\n"
     ]
    }
   ],
   "source": [
    "#count\n",
    "\n",
    "'''\n",
    "count - returns the number of times a specified value appears in the string.\n",
    "string.count(value, start, end)\n",
    "value -  A String. The string to value to search for\n",
    "start - Optional. An Integer. The position to start the search. Default is 0\n",
    "end\t- Optional. An Integer. The position to end the search. Default is the end of the string\n",
    "'''\n",
    "\n",
    "a = \"I love coffee.coffee makes me relief.coffee is a feel\"\n",
    "print(a.count('coffee'))\n",
    "print(a. count('ee'))\n",
    "print(a. count('ee',14,25))\n",
    "print(a. count('ee',11))\n",
    "print(a. count('ee',12))\n",
    "print(a. count('ee',14))"
   ]
  },
  {
   "cell_type": "code",
   "execution_count": 3,
   "id": "a54ad34a-b889-4342-ae64-28073ba3f616",
   "metadata": {},
   "outputs": [
    {
     "name": "stdout",
     "output_type": "stream",
     "text": [
      "True\n",
      "False\n",
      "True\n"
     ]
    }
   ],
   "source": [
    "#endswith\n",
    "\n",
    "'''\n",
    "endswith -  returns True if the string ends with the specified value, otherwise False.\n",
    "string.endswith(value, start, end)\n",
    "value -\tRequired. The value to check if the string ends with\n",
    "start - Optional. An Integer specifying at which position to start the search\n",
    "end\t- Optional. An Integer specifying at which position to end the search\n",
    "'''\n",
    "\n",
    "a = \"I love coffee.coffee makes me relief.coffee is a feel.\"\n",
    "print(a.endswith('.',0,14))\n",
    "print(a.endswith('.',0,13))\n",
    "print(a.endswith('feel.'))"
   ]
  },
  {
   "cell_type": "code",
   "execution_count": 7,
   "id": "e45329eb-c331-4439-8b4a-4de519cd05ad",
   "metadata": {},
   "outputs": [
    {
     "name": "stdout",
     "output_type": "stream",
     "text": [
      "True\n",
      "False\n",
      "True\n"
     ]
    }
   ],
   "source": [
    "#startswith\n",
    "\n",
    "'''\n",
    "The startswith() method returns True if the string starts with the specified value, otherwise False.\n",
    "string.startswith(value, start, end)\n",
    "value -\tRequired. The value to check if the string starts with\n",
    "start -\tOptional. An Integer specifying at which position to start the search\n",
    "end  -\tOptional. An Integer specifying at which position to end the search\n",
    "'''\n",
    "\n",
    "a = 'Lohitha Reddy'\n",
    "print(a.startswith('Lohitha'))\n",
    "print(a.startswith('Reddy',9))\n",
    "print(a.startswith('Reddy',8))"
   ]
  },
  {
   "cell_type": "code",
   "execution_count": 8,
   "id": "618ccb5b-d8c3-470f-894d-7822fa440c5c",
   "metadata": {},
   "outputs": [
    {
     "name": "stdout",
     "output_type": "stream",
     "text": [
      "H       e       l       l       o\n",
      "H e l l o\n"
     ]
    }
   ],
   "source": [
    "#expandtabs\n",
    "\n",
    "'''\n",
    "expandtabs - The expandtabs() method sets the tab size to the specified number of whitespaces. \n",
    "string.expandtabs(tabsize)\n",
    "tabsize - Optional. A number specifying the tabsize. Default tabsize is 8\n",
    "'''\n",
    "\n",
    "a = \"H\\te\\tl\\tl\\to\"\n",
    "print(a.expandtabs())\n",
    "print(a.expandtabs(2))\n"
   ]
  },
  {
   "cell_type": "code",
   "execution_count": 9,
   "id": "e4b59c1d-1ffc-40fb-94b7-75feaa370e4d",
   "metadata": {},
   "outputs": [
    {
     "name": "stdout",
     "output_type": "stream",
     "text": [
      "7\n",
      "37\n",
      "-1\n"
     ]
    }
   ],
   "source": [
    "#find \n",
    "\n",
    "'''\n",
    "The find() method finds the first occurrence of the specified value.\n",
    "\n",
    "The find() method returns -1 if the value is not found.\n",
    "\n",
    "The find() method is almost the same as the index() method, the only difference is that the index() method raises an exception if the value is not found. (See example below)\n",
    "\n",
    "string.find(value, start, end)\n",
    "\n",
    "value -\tRequired. The value to search for\n",
    "start -\tOptional. Where to start the search. Default is 0\n",
    "end\t - Optional. Where to end the search. Default is to the end of the string\n",
    "'''\n",
    "a = \"I love coffee.coffee makes me relief.coffee is a feel.\"\n",
    "print(a.find(\"coffee\"))\n",
    "print(a.find(\"coffee\",15,))\n",
    "print(a.find(\"lohi\"))\n"
   ]
  },
  {
   "cell_type": "code",
   "execution_count": 3,
   "id": "074cf124-b79f-4d86-a5e6-2ddb407ed8e2",
   "metadata": {},
   "outputs": [
    {
     "name": "stdout",
     "output_type": "stream",
     "text": [
      "13\n",
      "8\n",
      "-1\n"
     ]
    }
   ],
   "source": [
    "#rfind\n",
    "'''\n",
    "The rfind() method finds the last occurrence of the specified value.\n",
    "The rfind() method returns -1 if the value is not found.\n",
    "The rfind() method is almost the same as the rindex() method. See example below.\n",
    "\n",
    "string.rfind(value, start, end)\n",
    "value\tRequired. The value to search for\n",
    "start\tOptional. Where to start the search. Default is 0\n",
    "end\tOptional. Where to end the search. Default is to the end of the string\n",
    "'''\n",
    "\n",
    "a = \"Hello, welcome to my world\"\n",
    "print(a.rfind('e'))\n",
    "print(a.rfind('e',6,9))\n",
    "print(a.rfind('a'))"
   ]
  },
  {
   "cell_type": "code",
   "execution_count": null,
   "id": "3dc11c9d-4b3a-49c6-85af-47d93ef4023c",
   "metadata": {},
   "outputs": [],
   "source": [
    "#index\n",
    "\n",
    "'''\n",
    "The index() method finds the first occurrence of the specified value.\n",
    "The index() method raises an exception if the value is not found.\n",
    "The index() method is almost the same as the find() method, the only difference is that the find() method returns -1 if the value is not found. (See example below)\n",
    "\n",
    "string.index(value, start, end)\n",
    "\n",
    "value -\tRequired. The value to search for\n",
    "start -\tOptional. Where to start the search. Default is 0\n",
    "end\t- Optional. Where to end the search. Default is to the end of the string\n",
    "'''\n",
    "a =  \"I love coffee.coffee makes me relief.coffee is a feel.\"\n",
    "print(a.index(\"coffee\"))\n",
    "print(a.index(\"coffee\",15,))\n"
   ]
  },
  {
   "cell_type": "code",
   "execution_count": 41,
   "id": "501074d9-24cc-4671-b16a-6f618aff5724",
   "metadata": {},
   "outputs": [
    {
     "name": "stdout",
     "output_type": "stream",
     "text": [
      "Her name is Lohitha.Lohitha loves coffee\n",
      "Her name is Lohitha.lohi loves coffee\n",
      "Her name is Lohitha.Lohitha loves coffee\n",
      "Her name is Lohitha.Lohitha loves coffee\n"
     ]
    }
   ],
   "source": [
    "#replace\n",
    "\n",
    "'''\n",
    "The replace() method replaces a specified phrase with another specified phrase.\n",
    "string.replace(oldvalue, newvalue, count)\n",
    "oldvalue -\tRequired. The string to search for\n",
    "newvalue -\tRequired. The string to replace the old value with\n",
    "count -\tOptional. A number specifying how many occurrences of the old value you want to replace. Default is all occurrences\n",
    "'''\n",
    "\n",
    "a = \"Her name is lohi.lohi loves coffee\"\n",
    "print(a.replace('lohi','Lohitha'))\n",
    "print(a.replace('lohi','Lohitha',1))\n",
    "print(a.replace('lohi','Lohitha',2))\n",
    "print(a.replace('lohi','Lohitha',3))"
   ]
  },
  {
   "cell_type": "code",
   "execution_count": null,
   "id": "20675952-4d19-464a-b9fb-e657429489b9",
   "metadata": {},
   "outputs": [],
   "source": [
    "print(\"My name is %s and Iam from %s\"%(\"lohi\",\"Nellore\"))\n",
    "print(\"My name is {} and Iam from {}\".format(\"Lohi\",\"Nellore\"))\n",
    "print(\"My name is {1} and Iam from {0}\".format(\"Nellore\",\"lohi\"))\n"
   ]
  },
  {
   "cell_type": "code",
   "execution_count": 11,
   "id": "f801a8ea-9126-4a7e-84dc-8d792012c92a",
   "metadata": {},
   "outputs": [
    {
     "name": "stdout",
     "output_type": "stream",
     "text": [
      "True\n",
      "True\n",
      "True\n",
      "False\n"
     ]
    }
   ],
   "source": [
    "#isalnum\n",
    "\n",
    "'''\n",
    "The isalnum() method returns True if all the characters are alphanumeric, meaning alphabet letter (a-z) and numbers (0-9).\n",
    "string.isalnum()\n",
    "No parameters\n",
    "'''\n",
    "\n",
    "a = \"Lohi\"\n",
    "print(a.isalnum())\n",
    "a = \"5lohi\"\n",
    "print(a.isalnum())\n",
    "a = \"678\"\n",
    "print(a.isalnum())\n",
    "a = \"678#\"\n",
    "print(a.isalnum())"
   ]
  },
  {
   "cell_type": "code",
   "execution_count": 12,
   "id": "a3ad2163-b065-4af0-a1d7-7735651f1571",
   "metadata": {},
   "outputs": [
    {
     "name": "stdout",
     "output_type": "stream",
     "text": [
      "True\n",
      "False\n",
      "False\n"
     ]
    }
   ],
   "source": [
    "#isalpha\n",
    "\n",
    "'''The isalpha() method returns True if all the characters are alphabet letters (a-z).\n",
    "string.isalpha()\n",
    "No parameters.\n",
    "'''\n",
    "\n",
    "a = \"Lohi\"\n",
    "print(a.isalpha())\n",
    "a = \"5lohi\"\n",
    "print(a.isalpha())\n",
    "a = \"678\"\n",
    "print(a.isalpha())"
   ]
  },
  {
   "cell_type": "code",
   "execution_count": 13,
   "id": "c91e7895-788f-4f1e-8dc8-fa9ce368024e",
   "metadata": {},
   "outputs": [
    {
     "name": "stdout",
     "output_type": "stream",
     "text": [
      "True\n",
      "True\n",
      "False\n"
     ]
    }
   ],
   "source": [
    "#islower\n",
    "\n",
    "'''\n",
    "The islower() method returns True if all the characters are in lower case, otherwise False.\n",
    "Numbers, symbols and spaces are not checked, only alphabet characters.\n",
    "\n",
    "string.islower()\n",
    "No parameters.\n",
    "'''\n",
    "\n",
    "a=\"lohi reddy\"\n",
    "print(a.islower())\n",
    "a=\"lohi5\"\n",
    "print(a.islower())\n",
    "a=\"Lohi\"\n",
    "print(a.islower())"
   ]
  },
  {
   "cell_type": "code",
   "execution_count": 14,
   "id": "bea5eaec-974c-4de2-bceb-022bd1c44ac5",
   "metadata": {},
   "outputs": [
    {
     "name": "stdout",
     "output_type": "stream",
     "text": [
      "True\n",
      "True\n",
      "False\n"
     ]
    }
   ],
   "source": [
    "#isupper\n",
    "\n",
    "'''\n",
    "The isupper() method returns True if all the characters are in upper case, otherwise False.\n",
    "Numbers, symbols and spaces are not checked, only alphabet characters.\n",
    "\n",
    "string.isupper()\n",
    "No parameters.\n",
    "'''\n",
    "\n",
    "a=\"LOHI\"\n",
    "print(a.isupper())\n",
    "a=\"LOHI5\"\n",
    "print(a.isupper())\n",
    "a=\"LOHi5\"\n",
    "print(a.isupper())"
   ]
  },
  {
   "cell_type": "code",
   "execution_count": 18,
   "id": "0bbde927-d4cc-487c-a81e-c060a843b3b6",
   "metadata": {},
   "outputs": [
    {
     "name": "stdout",
     "output_type": "stream",
     "text": [
      "False\n",
      "False\n",
      "True\n",
      "False\n"
     ]
    }
   ],
   "source": [
    "#isspace\n",
    "\n",
    "'''\n",
    "The isspace() method returns True if all the characters in a string are whitespaces, otherwise False.\n",
    "string.isspace()\n",
    "No Parameters\n",
    "'''\n",
    "\n",
    "a = \"Lo hi\"\n",
    "print(a.isspace())\n",
    "a = \"\"\n",
    "print(a.isspace())\n",
    "a = \" \"\n",
    "print(a.isspace())\n",
    "a = \"123 \"\n",
    "print(a.isspace())"
   ]
  },
  {
   "cell_type": "code",
   "execution_count": 22,
   "id": "6cb62431-3e89-4919-8fe6-c58abff1d37e",
   "metadata": {},
   "outputs": [
    {
     "name": "stdout",
     "output_type": "stream",
     "text": [
      "True\n",
      "True\n",
      "True\n"
     ]
    }
   ],
   "source": [
    "#isascii\n",
    "\n",
    "'''\n",
    "The isascii() method returns True if all the characters are ascii characters  (a-z).\n",
    "string.isascii()\n",
    "No parameters.\n",
    "'''\n",
    "\n",
    "a = 'Lohi3'\n",
    "print(a.isascii())\n",
    "a = 'Lohi3.0#'\n",
    "print(a.isascii())\n",
    "a = '#'\n",
    "print(a.isascii())"
   ]
  },
  {
   "cell_type": "code",
   "execution_count": 26,
   "id": "098331bb-aa38-4026-88a7-1f7ffd6f517b",
   "metadata": {},
   "outputs": [
    {
     "name": "stdout",
     "output_type": "stream",
     "text": [
      "True\n",
      "False\n"
     ]
    }
   ],
   "source": [
    "#isdecimal\n",
    "'''\n",
    "The isdecimal() method returns True if all the characters are decimals (0-9).\n",
    "string.isdecimal()\n",
    "No parameters\n",
    "'''\n",
    "\n",
    "a=\"4\"\n",
    "print(a.isdecimal())\n",
    "a=\"4.3\"\n",
    "print(a.isdecimal())"
   ]
  },
  {
   "cell_type": "code",
   "execution_count": 30,
   "id": "a02cb920-9ee1-43ab-bc8d-9f317ed1aa44",
   "metadata": {},
   "outputs": [
    {
     "name": "stdout",
     "output_type": "stream",
     "text": [
      "True\n",
      "False\n",
      "False\n"
     ]
    }
   ],
   "source": [
    "#isnumeric\n",
    "\n",
    "'''\n",
    "The isnumeric() method returns True if all the characters are numeric (0-9), otherwise False.\n",
    "Exponents, like ² and ¾ are also considered to be numeric values.\n",
    "\"-1\" and \"1.5\" are NOT considered numeric values, because all the characters in the string must be numeric, and the - and the . are not.\n",
    "string.isnumeric()\n",
    "No parameters.\n",
    "'''\n",
    "a=\"5\"\n",
    "print(a.isnumeric())\n",
    "a=\"5.5\"\n",
    "print(a.isnumeric())\n",
    "a=\"-5\"\n",
    "print(a.isnumeric())"
   ]
  },
  {
   "cell_type": "code",
   "execution_count": 28,
   "id": "2eb8647e-aa7e-44d4-b8b2-c8e339861c54",
   "metadata": {},
   "outputs": [
    {
     "name": "stdout",
     "output_type": "stream",
     "text": [
      "True\n",
      "False\n",
      "True\n",
      "True\n",
      "False\n",
      "True\n",
      "False\n"
     ]
    }
   ],
   "source": [
    "#isidentifier\n",
    "\n",
    "'''\n",
    "The isidentifier() method returns True if the string is a valid identifier, otherwise False.\n",
    "A string is considered a valid identifier if it only contains alphanumeric letters (a-z) and (0-9), or underscores (_). \n",
    "A valid identifier cannot start with a number, or contain any spaces.\n",
    "string.isidentifier()\n",
    "No parameters\n",
    "'''\n",
    "\n",
    "a = \"name\"\n",
    "print(a.isidentifier())\n",
    "a=\"Lohitha reddy\"\n",
    "print(a.isidentifier())\n",
    "a=\"Lohitha_reddy\"\n",
    "print(a.isidentifier())\n",
    "a=\"Lohitha15\"\n",
    "print(a.isidentifier())\n",
    "a=\"K.Lohitha\"\n",
    "print(a.isidentifier())\n",
    "a=\"_Lohi\"\n",
    "print(a.isidentifier())\n",
    "a=\"5Lohi\"\n",
    "print(a.isidentifier())"
   ]
  },
  {
   "cell_type": "code",
   "execution_count": 32,
   "id": "20af5686-efb0-4d31-a7ed-4652fb9e37ce",
   "metadata": {},
   "outputs": [
    {
     "name": "stdout",
     "output_type": "stream",
     "text": [
      "True\n",
      "False\n",
      "True\n"
     ]
    }
   ],
   "source": [
    "#isprintable\n",
    "'''\n",
    "The isprintable() method returns True if all the characters are printable, otherwise False.\n",
    "string.isprintable()\n",
    "No parameters\n",
    "'''\n",
    "\n",
    "a = \"Lohi\"\n",
    "print(a.isprintable())\n",
    "a = \"Lohi\\nReddy\"\n",
    "print(a.isprintable())\n",
    "a = \"Lohi#Reddy\"\n",
    "print(a.isprintable())"
   ]
  },
  {
   "cell_type": "code",
   "execution_count": 33,
   "id": "9454bc9d-6cbb-4835-a391-ae25fa61889b",
   "metadata": {},
   "outputs": [
    {
     "name": "stdout",
     "output_type": "stream",
     "text": [
      "True\n",
      "True\n",
      "True\n"
     ]
    }
   ],
   "source": [
    "#istitle\n",
    "'''\n",
    "The istitle() method returns True if all words in a text start with a upper case letter, AND the rest of the word are lower case letters.\n",
    "string.istitle()\n",
    "No parameters.\n",
    "'''\n",
    "\n",
    "a=\"20 Lohitha\"\n",
    "print(a.istitle())\n",
    "a = \"I Love Coffee\"\n",
    "print(a.istitle())\n",
    "a = \"_Hello\"\n",
    "print(a.istitle())"
   ]
  },
  {
   "cell_type": "code",
   "execution_count": 12,
   "id": "0c9d62ef-ca08-46ef-9861-de30f43583e4",
   "metadata": {},
   "outputs": [
    {
     "name": "stdout",
     "output_type": "stream",
     "text": [
      "Hello world\n",
      "ello...world\n"
     ]
    }
   ],
   "source": [
    "#strip\n",
    "'''\n",
    "The strip() method removes any leading, and trailing whitespaces.\n",
    "Leading means at the beginning of the string, trailing means at the end.\n",
    "You can specify which character(s) to remove, if not, any whitespaces will be removed.\n",
    "string.strip(characters)\n",
    "characters\tOptional. A set of characters to remove as leading/trailing characters\n",
    "'''\n",
    "\n",
    "str = \"     Hello world     \"\n",
    "print(str.strip())\n",
    "\n",
    "str = \"...oHello...world..,,\"\n",
    "s=str.strip(\".,Ho\")\n",
    "print(s)"
   ]
  },
  {
   "cell_type": "code",
   "execution_count": 14,
   "id": "57698cf0-305c-4cc1-b39a-da33aae3a4d1",
   "metadata": {},
   "outputs": [
    {
     "name": "stdout",
     "output_type": "stream",
     "text": [
      "Hello world     \n"
     ]
    }
   ],
   "source": [
    "#lstrip\n",
    "'''\n",
    "The lstrip() method removes any leading characters (space is the default leading character to remove)\n",
    "string.lstrip(characters)\n",
    "characters - Optional. A set of characters to remove as leading characters\n",
    "'''\n",
    "\n",
    "str = \"     Hello world     \"\n",
    "print(str.lstrip())"
   ]
  },
  {
   "cell_type": "code",
   "execution_count": 15,
   "id": "fc22d896-0aca-4ac5-bdd3-9124d6b049b0",
   "metadata": {},
   "outputs": [
    {
     "name": "stdout",
     "output_type": "stream",
     "text": [
      "     Hello world\n"
     ]
    }
   ],
   "source": [
    "#rstrip\n",
    "'''\n",
    "The rstrip() method removes any trailing characters (characters at the end a string), space is the default trailing character to remove.\n",
    "string.rstrip(characters)\n",
    "characters\tOptional. A set of characters to remove as trailing characters\n",
    "'''\n",
    "\n",
    "str = \"     Hello world     \"\n",
    "print(str.rstrip())"
   ]
  },
  {
   "cell_type": "code",
   "execution_count": 20,
   "id": "43eb5e38-1f48-447c-8a11-c21f9ae116c6",
   "metadata": {},
   "outputs": [
    {
     "name": "stdout",
     "output_type": "stream",
     "text": [
      "John#Peter#Vicky\n"
     ]
    }
   ],
   "source": [
    "#join\n",
    "'''\n",
    "The join() method takes all items in an iterable and joins them into one string\n",
    "A string must be specified as the separator.\n",
    "string.join(iterable)\n",
    "iterable\tRequired. Any iterable object where all the returned values are strings\n",
    "'''\n",
    "\n",
    "myTuple = (\"John\", \"Peter\", \"Vicky\")\n",
    "\n",
    "x = \"#\".join(myTuple)\n",
    "\n",
    "print(x)\n"
   ]
  },
  {
   "cell_type": "code",
   "execution_count": 19,
   "id": "336a4e9d-e7d3-4b38-a3de-3159fd5e6fbb",
   "metadata": {},
   "outputs": [
    {
     "name": "stdout",
     "output_type": "stream",
     "text": [
      "['welcome', 'to', 'the', 'jungle']\n",
      "['hello', 'my name is Peter', 'I am 26 years old']\n",
      "['apple', 'banana', 'cherry', 'orange']\n",
      "['apple', 'banana#cherry#orange']\n"
     ]
    }
   ],
   "source": [
    "#split\n",
    "'''\n",
    "The split() method splits a string into a list.\n",
    "You can specify the separator, default separator is any whitespace.\n",
    "string.split(separator, maxsplit)\n",
    "separator -\tOptional. Specifies the separator to use when splitting the string. By default any whitespace is a separator\n",
    "maxsplit -\tOptional. Specifies how many splits to do. Default value is -1, which is \"all occurrences\"\n",
    "'''\n",
    "txt = \"welcome to the jungle\"\n",
    "x = txt.split()\n",
    "print(x)\n",
    "\n",
    "txt = \"hello, my name is Peter, I am 26 years old\"\n",
    "x = txt.split(\", \")\n",
    "print(x)\n",
    "\n",
    "txt = \"apple#banana#cherry#orange\"\n",
    "x = txt.split(\"#\")\n",
    "print(x)\n",
    "\n",
    "txt = \"apple#banana#cherry#orange\"\n",
    "x = txt.split(\"#\", 1)\n",
    "print(x)"
   ]
  },
  {
   "cell_type": "code",
   "execution_count": null,
   "id": "8119ed1e-a38d-4e3e-91bc-7c55c2941d7f",
   "metadata": {},
   "outputs": [],
   "source": [
    "\n"
   ]
  }
 ],
 "metadata": {
  "kernelspec": {
   "display_name": "Python 3 (ipykernel)",
   "language": "python",
   "name": "python3"
  },
  "language_info": {
   "codemirror_mode": {
    "name": "ipython",
    "version": 3
   },
   "file_extension": ".py",
   "mimetype": "text/x-python",
   "name": "python",
   "nbconvert_exporter": "python",
   "pygments_lexer": "ipython3",
   "version": "3.12.4"
  }
 },
 "nbformat": 4,
 "nbformat_minor": 5
}
